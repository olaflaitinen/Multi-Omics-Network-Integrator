{
 "cells": [
  {
   "cell_type": "markdown",
   "metadata": {},
   "source": [
    "# Multi-Omics Network Integration: A Walkthrough\n",
    "\n",
    "This notebook provides a step-by-step guide to using the `Multi-Omics-Network-Integrator`. We will:\n",
    "1. Load differential expression/abundance data from RNA-Seq and proteomics.\n",
    "2. Load a background Protein-Protein Interaction (PPI) network.\n",
    "3. Integrate the omics data to score each gene/protein in the network.\n",
    "4. Build a weighted graph using `networkx`.\n",
    "5. Identify and analyze significantly dysregulated \"hotspot\" subnetworks.\n",
    "6. Visualize the results."
   ]
  },
  {
   "cell_type": "markdown",
   "metadata": {},
   "source": [
    "### Step 1: Setup and Imports"
   ]
  },
  {
   "cell_type": "code",
   "execution_count": null,
   "metadata": {},
   "outputs": [],
   "source": [
    "import os\n",
    "import yaml\n",
    "import pandas as pd\n",
    "import sys\n",
    "\n",
    "# Add the src directory to the Python path\n",
    "sys.path.append('../src')\n",
    "\n",
    "from loader import load_omics_data, load_interaction_network\n",
    "from integrator import score_nodes\n",
    "from network_builder import build_graph\n",
    "from analysis import find_hotspot_subnetworks\n",
    "from visualize import plot_network, plot_interactive_network"
   ]
  },
  {
   "cell_type": "markdown",
   "metadata": {},
   "source": [
    "### Step 2: Load Configuration and Data Paths"
   ]
  },
  {
   "cell_type": "code",
   "execution_count": null,
   "metadata": {},
   "outputs": [],
   "source": [
    "# Load config file\n",
    "with open('../config/default_config.yaml', 'r') as f:\n",
    "    config = yaml.safe_load(f)\n",
    "\n",
    "print(\"Configuration loaded:\")\n",
    "print(yaml.dump(config))\n",
    "\n",
    "# Define file paths\n",
    "rna_file = '../data/example_rnaseq_results.csv'\n",
    "prot_file = '../data/example_proteomics_results.csv'\n",
    "ppi_file = '../data/example_ppi_network.tsv'"
   ]
  },
  {
   "cell_type": "markdown",
   "metadata": {},
   "source": [
    "### Step 3: Load Omics and Network Data"
   ]
  },
  {
   "cell_type": "code",
   "execution_count": null,
   "metadata": {},
   "outputs": [],
   "source": [
    "rna_df = load_omics_data(rna_file)\n",
    "prot_df = load_omics_data(prot_file)\n",
    "ppi_df = load_interaction_network(ppi_file)\n",
    "\n",
    "print(\"--- RNA-Seq Data ---\")\n",
    "display(rna_df.head())\n",
    "\n",
    "print(\"--- Proteomics Data ---\")\n",
    "display(prot_df.head())\n",
    "\n",
    "print(\"--- PPI Network Data ---\")\n",
    "display(ppi_df.head())"
   ]
  },
  {
   "cell_type": "markdown",
   "metadata": {},
   "source": [
    "### Step 4: Integrate Omics Data and Score Nodes\n",
    "\n",
    "Here, we calculate a score for each gene based on its p-value in the RNA-Seq and proteomics datasets. The weights for each omics layer are defined in our config file."
   ]
  },
  {
   "cell_type": "code",
   "execution_count": null,
   "metadata": {},
   "outputs": [],
   "source": [
    "node_scores = score_nodes(rna_df, prot_df, ppi_df, config['scoring'])\n",
    "\n",
    "# Display top 10 scoring nodes\n",
    "sorted_scores = sorted(node_scores.items(), key=lambda item: item[1], reverse=True)\n",
    "print(\"Top 10 scoring nodes:\")\n",
    "for node, score in sorted_scores[:10]:\n",
    "    print(f\"{node}: {score:.2f}\")"
   ]
  },
  {
   "cell_type": "markdown",
   "metadata": {},
   "source": [
    "### Step 5: Build the Weighted Network Graph\n",
    "\n",
    "Now we construct a `networkx` graph where nodes have our calculated scores as attributes."
   ]
  },
  {
   "cell_type": "code",
   "execution_count": null,
   "metadata": {},
   "outputs": [],
   "source": [
    "graph = build_graph(ppi_df, node_scores)\n",
    "print(f\"Graph created with {graph.number_of_nodes()} nodes and {graph.number_of_edges()} edges.\")"
   ]
  },
  {
   "cell_type": "markdown",
   "metadata": {},
   "source": [
    "### Step 6: Find Dysregulated 'Hotspot' Subnetworks\n",
    "\n",
    "We identify connected components in the graph and rank them by their total score to find the most dysregulated subnetworks (pathways)."
   ]
  },
  {
   "cell_type": "code",
   "execution_count": null,
   "metadata": {},
   "outputs": [],
   "source": [
    "hotspots_df = find_hotspot_subnetworks(graph, min_size=config['analysis']['min_subnetwork_size'])\n",
    "\n",
    "print(\"Identified Hotspot Subnetworks:\")\n",
    "display(hotspots_df)"
   ]
  },
  {
   "cell_type": "markdown",
   "metadata": {},
   "source": [
    "### Step 7: Visualize the Top Subnetwork\n",
    "\n",
    "Finally, we'll visualize the largest and highest-scoring subnetwork to inspect the dysregulated pathway."
   ]
  },
  {
   "cell_type": "code",
   "execution_count": null,
   "metadata": {},
   "outputs": [],
   "source": [
    "# Get the nodes of the top hotspot\n",
    "if not hotspots_df.empty:\n",
    "    top_hotspot_nodes = hotspots_df.iloc[0]['nodes'].split(', ')\n",
    "    subgraph = graph.subgraph(top_hotspot_nodes)\n",
    "    \n",
    "    # Create output directory if it doesn't exist\n",
    "    os.makedirs('../notebooks/output', exist_ok=True)\n",
    "    \n",
    "    # Static Plot\n",
    "    print(\"Generating static plot...\")\n",
    "    static_plot_path = '../notebooks/output/top_hotspot_static.png'\n",
    "    plot_network(subgraph, static_plot_path, title=\"Top Dysregulated Subnetwork\")\n",
    "    print(f\"Static plot saved to {static_plot_path}\")\n",
    "    \n",
    "    # Interactive Plot\n",
    "    print(\"\\nGenerating interactive plot...\")\n",
    "    interactive_plot_path = '../notebooks/output/top_hotspot_interactive.html'\n",
    "    plot_interactive_network(subgraph, interactive_plot_path, title=\"Top Dysregulated Subnetwork\")\n",
    "    print(f\"Interactive plot saved to {interactive_plot_path}. Open this file in your browser to explore.\")\n",
    "else:\n",
    "    print(\"No significant hotspots found with the current settings.\")"
   ]
  }
 ],
 "metadata": {
  "kernelspec": {
   "display_name": "Python 3",
   "language": "python",
   "name": "python3"
  },
  "language_info": {
   "name": "python",
   "version": "3.9.7"
  }
 },
 "nbformat": 4,
 "nbformat_minor": 4
}
